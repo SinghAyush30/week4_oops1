{
 "cells": [
  {
   "cell_type": "markdown",
   "id": "c61413e8-956f-4f55-892d-13a7bca1f986",
   "metadata": {},
   "source": [
    "Ans1)In object-oriented programming (OOP), a \"CLASS\" is a blueprint or template that defines the structure and behavior of objects. It serves as a blueprint for creating multiple instances and also encapsulates data (attributes) and operations (methods) that can be performed on that data.  \n",
    "\n",
    "while in the other hand, an \"OBJECT\" is a instance of a class. It represents a specific entity or concept in the real world that is described by the class."
   ]
  },
  {
   "cell_type": "code",
   "execution_count": 1,
   "id": "99a15961-6b03-44b8-b70d-faa1bcd9ab27",
   "metadata": {},
   "outputs": [],
   "source": [
    "class car:\n",
    "     \n",
    "    def __init__(self,model,year_of_production,colour):\n",
    "        self.model = model\n",
    "        self.yop = year_of_production\n",
    "        self.colour = colour\n",
    "        \n",
    "    def detail(self):\n",
    "        return(self.model,self.yop,self.colour)"
   ]
  },
  {
   "cell_type": "code",
   "execution_count": 2,
   "id": "b7affa4d-c288-4297-b927-0dc805add0be",
   "metadata": {},
   "outputs": [],
   "source": [
    "car1 = car(\"Audi\",2023,\"black\")\n",
    "car2 = car(\"BMW\",2022,\"blue\")"
   ]
  },
  {
   "cell_type": "code",
   "execution_count": 4,
   "id": "2a3175bc-5dde-4ff8-bf7d-ec565148db21",
   "metadata": {},
   "outputs": [
    {
     "data": {
      "text/plain": [
       "('Audi', 2023, 'black')"
      ]
     },
     "execution_count": 4,
     "metadata": {},
     "output_type": "execute_result"
    }
   ],
   "source": [
    "car1.detail()"
   ]
  },
  {
   "cell_type": "code",
   "execution_count": 5,
   "id": "a5e612c4-0a7f-4e28-bdfb-e529cc5944e9",
   "metadata": {},
   "outputs": [
    {
     "data": {
      "text/plain": [
       "('BMW', 2022, 'blue')"
      ]
     },
     "execution_count": 5,
     "metadata": {},
     "output_type": "execute_result"
    }
   ],
   "source": [
    "car2.detail()"
   ]
  },
  {
   "cell_type": "markdown",
   "id": "b28d548d-e736-4bb2-8867-0e901ec69429",
   "metadata": {},
   "source": [
    "here \"car\" is a class but \"car1\" and \"car2\" are objects within a class."
   ]
  },
  {
   "cell_type": "markdown",
   "id": "53c3e2e3-fb1b-4e26-927e-f14469b802c6",
   "metadata": {},
   "source": [
    "Ans2) The Four pillars of OOPs are   \n",
    "\n",
    "i)abstraction   \n",
    "ii)encapsulation  \n",
    "iii)inheritance  \n",
    "iv)polymorphism"
   ]
  },
  {
   "cell_type": "markdown",
   "id": "208e9f6d-e6e2-4b58-ae47-979f2a30785c",
   "metadata": {},
   "source": [
    "Ans3) The \"__init__()\" function, also known as the constructor method, is used in object-oriented programming to initialize the state of an object when it is created from a class. \n",
    "\n",
    "In simpler terms, the __init__() function allows us to set the initial values or attributes of an object. It is typically used to define and assign values to the object's properties or attributes, based on the arguments passed to the constructor method."
   ]
  },
  {
   "cell_type": "code",
   "execution_count": 6,
   "id": "51edafaf-4076-4acf-9637-17954df0da0f",
   "metadata": {},
   "outputs": [],
   "source": [
    "class person:\n",
    "    def __init__(self, name, age):\n",
    "        self.name = name\n",
    "        self.age = age\n",
    "    \n",
    "    def introduce(self):\n",
    "        print(f\"Hi, my name is {self.name} and I'm {self.age} years old.\")\n"
   ]
  },
  {
   "cell_type": "code",
   "execution_count": 8,
   "id": "7d5bbc9e-8172-4809-abb9-ed4ab4206982",
   "metadata": {},
   "outputs": [],
   "source": [
    "person1 = person(\"Ayush\", 25)\n",
    "person2 = person(\"Tanu\", 27)"
   ]
  },
  {
   "cell_type": "code",
   "execution_count": 9,
   "id": "5184db88-87e4-4899-8f0a-a4b5c7e1889b",
   "metadata": {},
   "outputs": [
    {
     "name": "stdout",
     "output_type": "stream",
     "text": [
      "Hi, my name is Tanu and I'm 27 years old.\n"
     ]
    }
   ],
   "source": [
    "person2.introduce()"
   ]
  },
  {
   "cell_type": "code",
   "execution_count": 11,
   "id": "14b5265b-d359-4f2c-9a33-d8a7596ca051",
   "metadata": {},
   "outputs": [
    {
     "name": "stdout",
     "output_type": "stream",
     "text": [
      "Hi, my name is Ayush and I'm 25 years old.\n"
     ]
    }
   ],
   "source": [
    "person1.introduce()"
   ]
  },
  {
   "cell_type": "markdown",
   "id": "a277fab3-c19d-4c03-bc4e-5482892af380",
   "metadata": {},
   "source": [
    "Ans4) In object-oriented programming (OOP), \"self\" is used to refer to the instance of a class within its methods. It is a reference to the object itself. When defining methods in a class, the first parameter is conventionally named self, although we can choose any valid keyword or variable."
   ]
  },
  {
   "cell_type": "markdown",
   "id": "c21f5132-5448-4870-bda4-ae1ea646425c",
   "metadata": {},
   "source": [
    "Ans5) Inheritance is a fundamental concept in OOP that allows a class to inherit the properties and methods of another class. The class that inherits is called the \"derived class\" or \"subclass,\" and the class being inherited from is called the \"base class\" or \"superclass.\" Inheritance promotes code reusability and allows the creation of specialized classes based on existing ones."
   ]
  },
  {
   "cell_type": "markdown",
   "id": "5bc66dcb-fd5f-486b-a807-331d48f3aa0a",
   "metadata": {},
   "source": [
    "There are several types of inheritance:  \n",
    "\n",
    "i)Single Inheritance:-It refers to a situation where a class inherits from a single base class. It is the simplest form of inheritance."
   ]
  },
  {
   "cell_type": "code",
   "execution_count": 15,
   "id": "6b72b031-e208-4611-aee1-ff4c5b5fee74",
   "metadata": {},
   "outputs": [],
   "source": [
    "class parent1:\n",
    "     def state(self):\n",
    "            print(\"I am from Uttar Pradesh\")\n",
    "            \n",
    "class parent2(parent1):\n",
    "    def state(self):\n",
    "        print(\"I am from Delhi\")\n",
    "            \n",
    "father = parent1()\n",
    "mother = parent2()"
   ]
  },
  {
   "cell_type": "code",
   "execution_count": 17,
   "id": "4cbe71a5-fa0c-4e50-8971-47e3c884901f",
   "metadata": {},
   "outputs": [
    {
     "name": "stdout",
     "output_type": "stream",
     "text": [
      "I am from Uttar Pradesh\n"
     ]
    }
   ],
   "source": [
    "father.state()"
   ]
  },
  {
   "cell_type": "code",
   "execution_count": 18,
   "id": "ecbc4ef0-b588-479f-8397-6b0a11a0b652",
   "metadata": {},
   "outputs": [
    {
     "name": "stdout",
     "output_type": "stream",
     "text": [
      "I am from Delhi\n"
     ]
    }
   ],
   "source": [
    "mother.state()"
   ]
  },
  {
   "cell_type": "markdown",
   "id": "1c32305f-58c7-4047-92c7-0ef19ab4fb4e",
   "metadata": {},
   "source": [
    "ii)Multiple Inheritance:- It allows a class to inherit from multiple base classes. The derived class will have access to the attributes and methods of all the base classes."
   ]
  },
  {
   "cell_type": "code",
   "execution_count": 30,
   "id": "de632844-6a0d-48d4-959c-1a9663a38363",
   "metadata": {},
   "outputs": [],
   "source": [
    "class parent_1:\n",
    "    def father_state(self):\n",
    "        print(\"he is from Uttar Pradesh\")\n",
    "            \n",
    "class parent_2:\n",
    "    def mother_state(self):\n",
    "        print(\"she is from Delhi\")\n",
    "        \n",
    "class child(parent_1,parent_2):\n",
    "    pass\n",
    "            \n",
    "son = child()"
   ]
  },
  {
   "cell_type": "code",
   "execution_count": 31,
   "id": "cbf52fad-7bf9-4c50-9e2a-177879cd8307",
   "metadata": {},
   "outputs": [
    {
     "name": "stdout",
     "output_type": "stream",
     "text": [
      "he is from Uttar Pradesh\n"
     ]
    }
   ],
   "source": [
    "son.father_state()"
   ]
  },
  {
   "cell_type": "code",
   "execution_count": 32,
   "id": "c76bdb45-f033-4359-8616-8ad13ecc16a9",
   "metadata": {},
   "outputs": [
    {
     "name": "stdout",
     "output_type": "stream",
     "text": [
      "she is from Delhi\n"
     ]
    }
   ],
   "source": [
    "son.mother_state()"
   ]
  },
  {
   "cell_type": "markdown",
   "id": "cf5bd0a5-2536-4908-9adf-4e3d42840584",
   "metadata": {},
   "source": [
    "iii) Multilevel Inheritance:-It refers to a situation where a derived class is created from another derived class. It creates a hierarchy of classes."
   ]
  },
  {
   "cell_type": "code",
   "execution_count": 4,
   "id": "6e11b1c8-b1f3-448c-b826-de9ffc57d906",
   "metadata": {},
   "outputs": [],
   "source": [
    "class Vehicle:\n",
    "    def drive(self):\n",
    "        print(\"I love to drive vehicle.\")\n",
    "\n",
    "\n",
    "class Car(Vehicle):\n",
    "    def acceleration(self):\n",
    "        print(\"Car is the only vehicle which I like the most.\")\n",
    "\n",
    "\n",
    "class SportsCar(Car):\n",
    "    def zoom(self):\n",
    "        print(\"Specifically Sports car.\")\n"
   ]
  },
  {
   "cell_type": "code",
   "execution_count": 42,
   "id": "13f00e25-4c60-4c86-b1dd-d33626ba0c5d",
   "metadata": {},
   "outputs": [
    {
     "ename": "AttributeError",
     "evalue": "type object 'Vehicle' has no attribute 'drive'",
     "output_type": "error",
     "traceback": [
      "\u001b[0;31m---------------------------------------------------------------------------\u001b[0m",
      "\u001b[0;31mAttributeError\u001b[0m                            Traceback (most recent call last)",
      "Cell \u001b[0;32mIn[42], line 1\u001b[0m\n\u001b[0;32m----> 1\u001b[0m \u001b[43mme\u001b[49m\u001b[38;5;241;43m.\u001b[39;49m\u001b[43mdrive\u001b[49m\n",
      "\u001b[0;31mAttributeError\u001b[0m: type object 'Vehicle' has no attribute 'drive'"
     ]
    }
   ],
   "source": [
    "me = vehicle"
   ]
  },
  {
   "cell_type": "code",
   "execution_count": null,
   "id": "22d9b2c1-6dab-4bcb-a76f-aa51d18c6c76",
   "metadata": {},
   "outputs": [],
   "source": []
  }
 ],
 "metadata": {
  "kernelspec": {
   "display_name": "Python 3 (ipykernel)",
   "language": "python",
   "name": "python3"
  },
  "language_info": {
   "codemirror_mode": {
    "name": "ipython",
    "version": 3
   },
   "file_extension": ".py",
   "mimetype": "text/x-python",
   "name": "python",
   "nbconvert_exporter": "python",
   "pygments_lexer": "ipython3",
   "version": "3.10.8"
  }
 },
 "nbformat": 4,
 "nbformat_minor": 5
}
